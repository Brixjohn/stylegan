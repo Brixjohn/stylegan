{
 "cells": [
  {
   "cell_type": "markdown",
   "metadata": {},
   "source": [
    "# Introduction to GAN"
   ]
  },
  {
   "cell_type": "markdown",
   "metadata": {},
   "source": [
    "This notebook is meant to familiarize its users on how Generative Adversarial Network works. It is based on the implementation of GAN on this link: https://www.geeksforgeeks.org/generative-adversarial-network-gan/"
   ]
  },
  {
   "cell_type": "code",
   "execution_count": 1,
   "metadata": {},
   "outputs": [],
   "source": [
    "import tensorflow as tf\n",
    "from tensorflow.examples.tutorials.mnist import input_data\n",
    "import numpy as np \n",
    "import matplotlib.pyplot as plt"
   ]
  },
  {
   "cell_type": "markdown",
   "metadata": {},
   "source": [
    "We will now import the MNIST dataset."
   ]
  },
  {
   "cell_type": "code",
   "execution_count": 2,
   "metadata": {},
   "outputs": [
    {
     "name": "stderr",
     "output_type": "stream",
     "text": [
      "WARNING: Logging before flag parsing goes to stderr.\n",
      "W0729 15:14:15.712029 139711243401024 deprecation.py:323] From <ipython-input-2-c15e4fb2cf7b>:1: read_data_sets (from tensorflow.contrib.learn.python.learn.datasets.mnist) is deprecated and will be removed in a future version.\n",
      "Instructions for updating:\n",
      "Please use alternatives such as official/mnist/dataset.py from tensorflow/models.\n",
      "W0729 15:14:15.712810 139711243401024 deprecation.py:323] From /home/gamma/anaconda3/lib/python3.7/site-packages/tensorflow/contrib/learn/python/learn/datasets/mnist.py:260: maybe_download (from tensorflow.contrib.learn.python.learn.datasets.base) is deprecated and will be removed in a future version.\n",
      "Instructions for updating:\n",
      "Please write your own downloading logic.\n",
      "W0729 15:14:15.714285 139711243401024 deprecation.py:323] From /home/gamma/anaconda3/lib/python3.7/site-packages/tensorflow/contrib/learn/python/learn/datasets/mnist.py:262: extract_images (from tensorflow.contrib.learn.python.learn.datasets.mnist) is deprecated and will be removed in a future version.\n",
      "Instructions for updating:\n",
      "Please use tf.data to implement this functionality.\n",
      "W0729 15:14:15.904563 139711243401024 deprecation.py:323] From /home/gamma/anaconda3/lib/python3.7/site-packages/tensorflow/contrib/learn/python/learn/datasets/mnist.py:267: extract_labels (from tensorflow.contrib.learn.python.learn.datasets.mnist) is deprecated and will be removed in a future version.\n",
      "Instructions for updating:\n",
      "Please use tf.data to implement this functionality.\n"
     ]
    },
    {
     "name": "stdout",
     "output_type": "stream",
     "text": [
      "Extracting MNIST_data/train-images-idx3-ubyte.gz\n",
      "Extracting MNIST_data/train-labels-idx1-ubyte.gz\n",
      "Extracting MNIST_data/t10k-images-idx3-ubyte.gz\n"
     ]
    },
    {
     "name": "stderr",
     "output_type": "stream",
     "text": [
      "W0729 15:14:15.945189 139711243401024 deprecation.py:323] From /home/gamma/anaconda3/lib/python3.7/site-packages/tensorflow/contrib/learn/python/learn/datasets/mnist.py:290: DataSet.__init__ (from tensorflow.contrib.learn.python.learn.datasets.mnist) is deprecated and will be removed in a future version.\n",
      "Instructions for updating:\n",
      "Please use alternatives such as official/mnist/dataset.py from tensorflow/models.\n"
     ]
    },
    {
     "name": "stdout",
     "output_type": "stream",
     "text": [
      "Extracting MNIST_data/t10k-labels-idx1-ubyte.gz\n"
     ]
    }
   ],
   "source": [
    "mnist = input_data.read_data_sets(\"MNIST_data\")"
   ]
  },
  {
   "cell_type": "markdown",
   "metadata": {},
   "source": [
    "## Creating models"
   ]
  },
  {
   "cell_type": "markdown",
   "metadata": {},
   "source": [
    "This function will create the Generator model. It consists of two dense layers and an output layer."
   ]
  },
  {
   "cell_type": "code",
   "execution_count": 3,
   "metadata": {},
   "outputs": [],
   "source": [
    "def generator(z, reuse = None): \n",
    "    with tf.variable_scope('gen', reuse = reuse): \n",
    "        hidden1 = tf.layers.dense(inputs = z, units = 128,  \n",
    "                            activation = tf.nn.leaky_relu) \n",
    "                              \n",
    "        hidden2 = tf.layers.dense(inputs = hidden1, \n",
    "           units = 128, activation = tf.nn.leaky_relu) \n",
    "             \n",
    "        output = tf.layers.dense(inputs = hidden2,  \n",
    "             units = 784, activation = tf.nn.tanh) \n",
    "          \n",
    "        return output"
   ]
  },
  {
   "cell_type": "markdown",
   "metadata": {},
   "source": [
    "We will now create the Discriminator model. It contains two dense layers as well as a classifier."
   ]
  },
  {
   "cell_type": "code",
   "execution_count": 4,
   "metadata": {},
   "outputs": [],
   "source": [
    "def discriminator(X, reuse = None): \n",
    "    with tf.variable_scope('dis', reuse = reuse): \n",
    "        hidden1 = tf.layers.dense(inputs = X, units = 128, \n",
    "                            activation = tf.nn.leaky_relu) \n",
    "                              \n",
    "        hidden2 = tf.layers.dense(inputs = hidden1, \n",
    "               units = 128, activation = tf.nn.leaky_relu) \n",
    "                 \n",
    "        logits = tf.layers.dense(hidden2, units = 1) \n",
    "        output = tf.sigmoid(logits) \n",
    "          \n",
    "        return output, logits "
   ]
  },
  {
   "cell_type": "code",
   "execution_count": 5,
   "metadata": {},
   "outputs": [],
   "source": [
    "tf.reset_default_graph()"
   ]
  },
  {
   "cell_type": "markdown",
   "metadata": {},
   "source": [
    "## Input variables"
   ]
  },
  {
   "cell_type": "markdown",
   "metadata": {},
   "source": [
    "We will create placeholders for the outputs."
   ]
  },
  {
   "cell_type": "code",
   "execution_count": 6,
   "metadata": {},
   "outputs": [],
   "source": [
    "tf.reset_default_graph() \n",
    "\n",
    "real_images = tf.placeholder(tf.float32, shape =[None, 784]) \n",
    "z = tf.placeholder(tf.float32, shape =[None, 100])"
   ]
  },
  {
   "cell_type": "markdown",
   "metadata": {},
   "source": [
    "We will run the generator and discriminator models."
   ]
  },
  {
   "cell_type": "code",
   "execution_count": 7,
   "metadata": {},
   "outputs": [
    {
     "name": "stderr",
     "output_type": "stream",
     "text": [
      "W0729 15:15:08.305019 139711243401024 deprecation.py:323] From <ipython-input-3-85d873a7af25>:4: dense (from tensorflow.python.layers.core) is deprecated and will be removed in a future version.\n",
      "Instructions for updating:\n",
      "Use keras.layers.dense instead.\n",
      "W0729 15:15:08.309037 139711243401024 deprecation.py:506] From /home/gamma/anaconda3/lib/python3.7/site-packages/tensorflow/python/ops/init_ops.py:1251: calling VarianceScaling.__init__ (from tensorflow.python.ops.init_ops) with dtype is deprecated and will be removed in a future version.\n",
      "Instructions for updating:\n",
      "Call initializer instance with the dtype argument instead of passing it to the constructor\n"
     ]
    }
   ],
   "source": [
    "G = generator(z) \n",
    "D_output_real, D_logits_real = discriminator(real_images) \n",
    "D_output_fake, D_logits_fake = discriminator(G, reuse = True)"
   ]
  },
  {
   "cell_type": "markdown",
   "metadata": {},
   "source": [
    "## Model preparation"
   ]
  },
  {
   "cell_type": "markdown",
   "metadata": {},
   "source": [
    "Loss function"
   ]
  },
  {
   "cell_type": "code",
   "execution_count": 8,
   "metadata": {},
   "outputs": [],
   "source": [
    "def loss_func(logits_in, labels_in): \n",
    "    return tf.reduce_mean(tf.nn.sigmoid_cross_entropy_with_logits( \n",
    "                        logits = logits_in, labels = labels_in))"
   ]
  },
  {
   "cell_type": "code",
   "execution_count": 9,
   "metadata": {},
   "outputs": [
    {
     "name": "stderr",
     "output_type": "stream",
     "text": [
      "W0729 15:15:28.697840 139711243401024 deprecation.py:323] From /home/gamma/anaconda3/lib/python3.7/site-packages/tensorflow/python/ops/nn_impl.py:180: add_dispatch_support.<locals>.wrapper (from tensorflow.python.ops.array_ops) is deprecated and will be removed in a future version.\n",
      "Instructions for updating:\n",
      "Use tf.where in 2.0, which has the same broadcast rule as np.where\n"
     ]
    }
   ],
   "source": [
    "# Smoothing for generalization \n",
    "D_real_loss = loss_func(D_logits_real, tf.ones_like(D_logits_real)*0.9) \n",
    "D_fake_loss = loss_func(D_logits_fake, tf.zeros_like(D_logits_real)) \n",
    "D_loss = D_real_loss + D_fake_loss \n",
    "\n",
    "G_loss = loss_func(D_logits_fake, tf.ones_like(D_logits_fake)) "
   ]
  },
  {
   "cell_type": "code",
   "execution_count": 13,
   "metadata": {},
   "outputs": [],
   "source": [
    "lr = 0.001 # learning rate\n",
    "batch_size = 100 # batch size \n",
    "epochs = 10 # number of epochs. The higher the better the result "
   ]
  },
  {
   "cell_type": "code",
   "execution_count": 11,
   "metadata": {},
   "outputs": [],
   "source": [
    "tvars = tf.trainable_variables()  \n",
    "d_vars =[var for var in tvars if 'dis' in var.name] \n",
    "g_vars =[var for var in tvars if 'gen' in var.name]\n",
    "\n",
    "D_trainer = tf.train.AdamOptimizer(lr).minimize(D_loss, var_list = d_vars)\n",
    "G_trainer = tf.train.AdamOptimizer(lr).minimize(G_loss, var_list = g_vars)"
   ]
  },
  {
   "cell_type": "code",
   "execution_count": 12,
   "metadata": {},
   "outputs": [],
   "source": [
    "init = tf.global_variables_initializer()"
   ]
  },
  {
   "cell_type": "markdown",
   "metadata": {},
   "source": [
    "## Model training"
   ]
  },
  {
   "cell_type": "markdown",
   "metadata": {},
   "source": [
    "A session will be created to train the network."
   ]
  },
  {
   "cell_type": "code",
   "execution_count": 14,
   "metadata": {},
   "outputs": [
    {
     "name": "stdout",
     "output_type": "stream",
     "text": [
      "on epoch0\n",
      "on epoch1\n",
      "on epoch2\n",
      "on epoch3\n",
      "on epoch4\n",
      "on epoch5\n",
      "on epoch6\n",
      "on epoch7\n",
      "on epoch8\n",
      "on epoch9\n"
     ]
    }
   ],
   "source": [
    "samples = [] # generator examples \n",
    "  \n",
    "with tf.Session() as sess: \n",
    "    sess.run(init) \n",
    "    for epoch in range(epochs): \n",
    "        num_batches = mnist.train.num_examples//batch_size \n",
    "          \n",
    "        for i in range(num_batches): \n",
    "            batch = mnist.train.next_batch(batch_size) \n",
    "            batch_images = batch[0].reshape((batch_size, 784)) \n",
    "            batch_images = batch_images * 2-1\n",
    "            batch_z = np.random.uniform(-1, 1, size =(batch_size, 100)) \n",
    "            _= sess.run(D_trainer, feed_dict ={real_images:batch_images, z:batch_z}) \n",
    "            _= sess.run(G_trainer, feed_dict ={z:batch_z}) \n",
    "              \n",
    "        print(\"on epoch{}\".format(epoch)) \n",
    "          \n",
    "        sample_z = np.random.uniform(-1, 1, size =(1, 100)) \n",
    "        gen_sample = sess.run(generator(z, reuse = True), \n",
    "                                 feed_dict ={z:sample_z}) \n",
    "          \n",
    "        samples.append(gen_sample)"
   ]
  },
  {
   "cell_type": "code",
   "execution_count": 15,
   "metadata": {},
   "outputs": [
    {
     "data": {
      "text/plain": [
       "<matplotlib.image.AxesImage at 0x7f1092d06f98>"
      ]
     },
     "execution_count": 15,
     "metadata": {},
     "output_type": "execute_result"
    },
    {
     "data": {
      "image/png": "[encoded data removed]",
      "text/plain": [
       "<Figure size 432x288 with 1 Axes>"
      ]
     },
     "metadata": {
      "needs_background": "light"
     },
     "output_type": "display_data"
    }
   ],
   "source": [
    "plt.imshow(samples[0].reshape(28, 28))"
   ]
  },
  {
   "cell_type": "code",
   "execution_count": 16,
   "metadata": {},
   "outputs": [
    {
     "data": {
      "text/plain": [
       "<matplotlib.image.AxesImage at 0x7f108e32b3c8>"
      ]
     },
     "execution_count": 16,
     "metadata": {},
     "output_type": "execute_result"
    },
    {
     "data": {
      "image/png": "[encoded data removed]",
      "text/plain": [
       "<Figure size 432x288 with 1 Axes>"
      ]
     },
     "metadata": {
      "needs_background": "light"
     },
     "output_type": "display_data"
    }
   ],
   "source": [
    "plt.imshow(samples[9].reshape(28, 28))"
   ]
  },
  {
   "cell_type": "code",
   "execution_count": null,
   "metadata": {},
   "outputs": [],
   "source": []
  }
 ],
 "metadata": {
  "kernelspec": {
   "display_name": "Python 3",
   "language": "python",
   "name": "python3"
  },
  "language_info": {
   "codemirror_mode": {
    "name": "ipython",
    "version": 3
   },
   "file_extension": ".py",
   "mimetype": "text/x-python",
   "name": "python",
   "nbconvert_exporter": "python",
   "pygments_lexer": "ipython3",
   "version": "3.7.3"
  }
 },
 "nbformat": 4,
 "nbformat_minor": 2
}
